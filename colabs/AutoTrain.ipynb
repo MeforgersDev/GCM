{
  "cells": [
    {
      "cell_type": "markdown",
      "metadata": {
        "id": "QpE8lSh9YVRt"
      },
      "source": [
        "<img src=\"https://raw.githubusercontent.com/huggingface/autotrain-advanced/main/src/autotrain/app/static/logo.png\" alt=\"AutoTrain\" width=\"200\"/>\n",
        "\n",
        "- Attach proper hardware\n",
        "- Click Runtime > Run all\n",
        "- Read the [docs](https://hf.co/docs/autotrain) for data format, parameters and other questions\n",
        "- GitHub Repo: https://github.com/huggingface/autotrain-advanced"
      ]
    },
    {
      "cell_type": "code",
      "execution_count": null,
      "metadata": {
        "id": "JjyQX_PKYVRw"
      },
      "outputs": [],
      "source": [
        "!pip install -U autotrain-advanced > install_logs.txt 2>&1\n",
        "from IPython.display import display\n",
        "from autotrain.app.colab import colab_app\n",
        "elements = colab_app()\n",
        "display(elements)"
      ]
    }
  ],
  "metadata": {
    "kernelspec": {
      "display_name": "Python 3",
      "name": "python3"
    },
    "language_info": {
      "codemirror_mode": {
        "name": "ipython",
        "version": 3
      },
      "file_extension": ".py",
      "mimetype": "text/x-python",
      "name": "python",
      "nbconvert_exporter": "python",
      "pygments_lexer": "ipython3",
      "version": "3.10.14"
    },
    "colab": {
      "provenance": [],
      "machine_shape": "hm",
      "gpuType": "A100"
    },
    "accelerator": "GPU"
  },
  "nbformat": 4,
  "nbformat_minor": 0
}